{
 "cells": [
  {
   "cell_type": "code",
   "execution_count": 23,
   "id": "dc8cc329",
   "metadata": {},
   "outputs": [
    {
     "name": "stdout",
     "output_type": "stream",
     "text": [
      "Enter a password: password\n",
      "It would take approximately 0.005764801 seconds to crack the password 'password'\n"
     ]
    }
   ],
   "source": [
    "def get_charset(password):\n",
    "    charset = \"\"\n",
    "    for c in password:\n",
    "        if c not in charset:\n",
    "            charset += c\n",
    "    return charset\n",
    "\n",
    "def crack_time(password_length, char_set_size, guesses_per_second):\n",
    "    guesses = char_set_size ** password_length\n",
    "    seconds = guesses / guesses_per_second\n",
    "    return seconds\n",
    "\n",
    "# Prompt the user to enter a password\n",
    "password = input(\"Enter a password: \")\n",
    "\n",
    "# Calculate the number of seconds to crack the password\n",
    "charset = get_charset(password)\n",
    "crack_seconds = crack_time(len(password), len(charset), 1e9)  # assume 1 billion guesses per second\n",
    "\n",
    "# Print the result to the console\n",
    "print(\"It would take approximately {} seconds to crack the password '{}'\".format(crack_seconds, password))"
   ]
  }
 ],
 "metadata": {
  "kernelspec": {
   "display_name": "Python 3 (ipykernel)",
   "language": "python",
   "name": "python3"
  },
  "language_info": {
   "codemirror_mode": {
    "name": "ipython",
    "version": 3
   },
   "file_extension": ".py",
   "mimetype": "text/x-python",
   "name": "python",
   "nbconvert_exporter": "python",
   "pygments_lexer": "ipython3",
   "version": "3.9.13"
  }
 },
 "nbformat": 4,
 "nbformat_minor": 5
}
